{
 "cells": [
  {
   "cell_type": "code",
   "execution_count": 1,
   "id": "ff36a703-f4d5-4cee-98a1-6dd5898b8cab",
   "metadata": {},
   "outputs": [],
   "source": [
    "import pandas as pd\n",
    "import numpy as np\n",
    "import matplotlib.pyplot as plt\n",
    "import seaborn as sns\n",
    "from pylab import rcParams\n",
    "random_state = 42\n",
    "import autoreload\n",
    "%load_ext autoreload\n",
    "%autoreload 2\n",
    "import python_code.Scripts as sc\n",
    "import python_code.Reference as ref\n",
    "import pickle\n",
    "\n",
    "from sklearn.model_selection import train_test_split,cross_val_score,GridSearchCV\n",
    "from sklearn.metrics import accuracy_score,classification_report,confusion_matrix,recall_score,precision_score\n",
    "from treeinterpreter import treeinterpreter as ti\n",
    "from sklearn.preprocessing import StandardScaler\n",
    "from sklearn.decomposition import PCA\n",
    "\n",
    "from sklearn.linear_model import LogisticRegression\n",
    "from sklearn.tree import DecisionTreeClassifier,ExtraTreeClassifier\n",
    "from sklearn.ensemble import RandomForestClassifier,GradientBoostingClassifier,AdaBoostClassifier,BaggingClassifier, VotingClassifier\n",
    "from sklearn.svm import SVC\n",
    "from sklearn.naive_bayes import GaussianNB"
   ]
  },
  {
   "cell_type": "code",
   "execution_count": 2,
   "id": "ea0f40c3-1a8d-4d3d-aa3f-85afb0b5c3c1",
   "metadata": {},
   "outputs": [],
   "source": [
    "df = pd.read_csv(\"./data/final.csv\")"
   ]
  },
  {
   "cell_type": "code",
   "execution_count": 3,
   "id": "f984485d-bf35-426a-ac07-3ca0de30188f",
   "metadata": {},
   "outputs": [
    {
     "name": "stdout",
     "output_type": "stream",
     "text": [
      "<class 'pandas.core.frame.DataFrame'>\n",
      "RangeIndex: 3904 entries, 0 to 3903\n",
      "Data columns (total 33 columns):\n",
      " #   Column    Non-Null Count  Dtype  \n",
      "---  ------    --------------  -----  \n",
      " 0   RAWNET    3904 non-null   float64\n",
      " 1   FSUSIZE   3904 non-null   float64\n",
      " 2   FSNONCIT  3904 non-null   float64\n",
      " 3   FSGA      3904 non-null   float64\n",
      " 4   FSNETINC  3904 non-null   float64\n",
      " 5   FSDIS     3904 non-null   float64\n",
      " 6   TANF_IND  3904 non-null   float64\n",
      " 7   REALPROP  3904 non-null   float64\n",
      " 8   SHELDED   3904 non-null   float64\n",
      " 9   HWGT      3904 non-null   float64\n",
      " 10  FSSLTDED  3904 non-null   float64\n",
      " 11  FSASSET   3904 non-null   float64\n",
      " 12  FSSSI     3904 non-null   float64\n",
      " 13  FSTOTDE2  3904 non-null   float64\n",
      " 14  FSEARN    3904 non-null   float64\n",
      " 15  TPOV      3904 non-null   float64\n",
      " 16  FSSLTDE2  3904 non-null   float64\n",
      " 17  LIQRESOR  3904 non-null   float64\n",
      " 18  RAWERND   3904 non-null   float64\n",
      " 19  FSNELDER  3904 non-null   float64\n",
      " 20  FSGRINC   3904 non-null   float64\n",
      " 21  FSERNDED  3904 non-null   float64\n",
      " 22  FSWAGES   3904 non-null   float64\n",
      " 23  FSTOTDED  3904 non-null   float64\n",
      " 24  FSSTDDE2  3904 non-null   float64\n",
      " 25  WRK_POOR  3904 non-null   float64\n",
      " 26  FSTANF    3904 non-null   float64\n",
      " 27  FSERNDE2  3904 non-null   float64\n",
      " 28  FSUNEARN  3904 non-null   float64\n",
      " 29  CERTHHSZ  3904 non-null   float64\n",
      " 30  CAT_ELIG  3904 non-null   float64\n",
      " 31  VEHICLEA  3904 non-null   float64\n",
      " 32  FSVEHAST  3904 non-null   float64\n",
      "dtypes: float64(33)\n",
      "memory usage: 1006.6 KB\n"
     ]
    }
   ],
   "source": [
    "df.info()"
   ]
  },
  {
   "cell_type": "code",
   "execution_count": 4,
   "id": "fc2a2e7c-49fa-4d4d-b2d3-d2922f77ad71",
   "metadata": {},
   "outputs": [],
   "source": [
    "# Data Prep"
   ]
  },
  {
   "cell_type": "code",
   "execution_count": 5,
   "id": "3730da9f-2d2d-4455-b8c2-343c4ed15082",
   "metadata": {},
   "outputs": [],
   "source": [
    "X = df.drop(columns = ['CAT_ELIG'])\n",
    "y = df['CAT_ELIG']"
   ]
  },
  {
   "cell_type": "code",
   "execution_count": 6,
   "id": "903bb515-0c28-49b1-9180-c5334d3a1820",
   "metadata": {},
   "outputs": [
    {
     "data": {
      "text/plain": [
       "1.0    0.662398\n",
       "0.0    0.337602\n",
       "Name: CAT_ELIG, dtype: float64"
      ]
     },
     "execution_count": 6,
     "metadata": {},
     "output_type": "execute_result"
    }
   ],
   "source": [
    "#baseline, NULL Model\n",
    "y.value_counts(normalize=True)"
   ]
  },
  {
   "cell_type": "code",
   "execution_count": 7,
   "id": "550131e4-0010-4f60-9f5e-75803c45fcc0",
   "metadata": {},
   "outputs": [],
   "source": [
    "X_train, X_test, y_train, y_test = train_test_split(X,y,test_size=.3,random_state=random_state)"
   ]
  },
  {
   "cell_type": "code",
   "execution_count": 8,
   "id": "1ca9d2d3-c9c1-4c78-9dba-f1f091410684",
   "metadata": {},
   "outputs": [],
   "source": [
    "ss = StandardScaler()\n",
    "X_train = ss.fit_transform(X_train)\n",
    "X_test = ss.transform(X_test)"
   ]
  },
  {
   "cell_type": "code",
   "execution_count": 9,
   "id": "22a0c96b-b517-478d-9979-bc8edde1c4f9",
   "metadata": {},
   "outputs": [],
   "source": [
    "np.savetxt('./data/TrainTest/X_train.csv',X_train,delimiter=',')\n",
    "np.savetxt('./data/TrainTest/y_train.csv',y_train,delimiter=',')\n",
    "np.savetxt('./data/TrainTest/X_test.csv',X_test,delimiter=',')\n",
    "np.savetxt('./data/TrainTest/y_test.csv',y_test,delimiter=',')"
   ]
  },
  {
   "cell_type": "code",
   "execution_count": 10,
   "id": "f5491651-a10b-438b-a786-153ea75763bc",
   "metadata": {},
   "outputs": [],
   "source": [
    "pca = PCA(n_components=10,random_state=42)\n",
    "pca.fit(X_train)\n",
    "X_train_pc = pca.transform(X_train)\n",
    "X_test_pc = pca.transform(X_test)"
   ]
  },
  {
   "cell_type": "code",
   "execution_count": 11,
   "id": "c81124ef-5f09-451b-a940-b9d15c9790f0",
   "metadata": {},
   "outputs": [],
   "source": [
    "#Models\n",
    "\n",
    "#Overview model selection\n",
    "#White box models\n",
    "\n",
    "#Logistic Regression\n",
    "#Decision Tree\n",
    "#Random Forest\n",
    "#Gradient\n",
    "#Ada\n",
    "#SVM\n",
    "#Naive Bayes"
   ]
  },
  {
   "cell_type": "code",
   "execution_count": 12,
   "id": "c75b6acb-d99f-4b5f-828e-878c7a5df5b5",
   "metadata": {},
   "outputs": [],
   "source": [
    "models = {\n",
    "    'LogReg': LogisticRegression(),\n",
    "    'Decision Tree':DecisionTreeClassifier(),\n",
    "    'Random Forest':RandomForestClassifier(),\n",
    "    'Gradient Boost':GradientBoostingClassifier(),\n",
    "    'Ada Boost':AdaBoostClassifier(),\n",
    "    'SVC':SVC(),\n",
    "    'Naive Bayes':GaussianNB()}"
   ]
  },
  {
   "cell_type": "code",
   "execution_count": 13,
   "id": "2a2d1559-3fb4-4e4a-a366-a57b02ae0f0c",
   "metadata": {},
   "outputs": [],
   "source": [
    "#adapted from Dan Brown lecture\n",
    "final = pd.DataFrame(columns = ['cross_val_train','cross_val_test','test_recall','test_precision'])\n",
    "idx=0\n",
    "while idx < len(models.keys()):\n",
    "    for name,model in models.items():\n",
    "        results = {}\n",
    "        results['name']=name\n",
    "        name=model.fit(X_train, y_train)\n",
    "        y_pred_train = model.predict(X_train)\n",
    "        y_pred_test = model.predict(X_test)\n",
    "        results['cross_val_train'] = np.mean(cross_val_score(model,X_train,y_train,cv=4))\n",
    "        results['cross_val_test'] = np.mean(cross_val_score(model,X_test,y_test,cv=4))\n",
    "        results['test_recall'] = recall_score(y_test, y_pred_test)\n",
    "        results['test_precision'] = precision_score(y_test, y_pred_test)\n",
    "        final = final.append(results,ignore_index=True)\n",
    "        idx+=1\n",
    "        "
   ]
  },
  {
   "cell_type": "code",
   "execution_count": 14,
   "id": "68c35abc-b8b5-4d11-ac8d-46221297ac9d",
   "metadata": {},
   "outputs": [
    {
     "data": {
      "text/html": [
       "<div>\n",
       "<style scoped>\n",
       "    .dataframe tbody tr th:only-of-type {\n",
       "        vertical-align: middle;\n",
       "    }\n",
       "\n",
       "    .dataframe tbody tr th {\n",
       "        vertical-align: top;\n",
       "    }\n",
       "\n",
       "    .dataframe thead th {\n",
       "        text-align: right;\n",
       "    }\n",
       "</style>\n",
       "<table border=\"1\" class=\"dataframe\">\n",
       "  <thead>\n",
       "    <tr style=\"text-align: right;\">\n",
       "      <th></th>\n",
       "      <th>cross_val_train</th>\n",
       "      <th>cross_val_test</th>\n",
       "      <th>test_recall</th>\n",
       "      <th>test_precision</th>\n",
       "    </tr>\n",
       "    <tr>\n",
       "      <th>name</th>\n",
       "      <th></th>\n",
       "      <th></th>\n",
       "      <th></th>\n",
       "      <th></th>\n",
       "    </tr>\n",
       "  </thead>\n",
       "  <tbody>\n",
       "    <tr>\n",
       "      <th>LogReg</th>\n",
       "      <td>0.884334</td>\n",
       "      <td>0.862628</td>\n",
       "      <td>0.900262</td>\n",
       "      <td>0.903821</td>\n",
       "    </tr>\n",
       "    <tr>\n",
       "      <th>Decision Tree</th>\n",
       "      <td>0.903001</td>\n",
       "      <td>0.911263</td>\n",
       "      <td>0.935696</td>\n",
       "      <td>0.938158</td>\n",
       "    </tr>\n",
       "    <tr>\n",
       "      <th>Random Forest</th>\n",
       "      <td>0.940703</td>\n",
       "      <td>0.934300</td>\n",
       "      <td>0.963255</td>\n",
       "      <td>0.956975</td>\n",
       "    </tr>\n",
       "    <tr>\n",
       "      <th>Gradient Boost</th>\n",
       "      <td>0.940337</td>\n",
       "      <td>0.927474</td>\n",
       "      <td>0.955381</td>\n",
       "      <td>0.951634</td>\n",
       "    </tr>\n",
       "    <tr>\n",
       "      <th>Ada Boost</th>\n",
       "      <td>0.922035</td>\n",
       "      <td>0.920648</td>\n",
       "      <td>0.937008</td>\n",
       "      <td>0.939474</td>\n",
       "    </tr>\n",
       "    <tr>\n",
       "      <th>SVC</th>\n",
       "      <td>0.884700</td>\n",
       "      <td>0.854949</td>\n",
       "      <td>0.901575</td>\n",
       "      <td>0.928378</td>\n",
       "    </tr>\n",
       "    <tr>\n",
       "      <th>Naive Bayes</th>\n",
       "      <td>0.767204</td>\n",
       "      <td>0.741468</td>\n",
       "      <td>0.833333</td>\n",
       "      <td>0.908441</td>\n",
       "    </tr>\n",
       "  </tbody>\n",
       "</table>\n",
       "</div>"
      ],
      "text/plain": [
       "                cross_val_train  cross_val_test  test_recall  test_precision\n",
       "name                                                                        \n",
       "LogReg                 0.884334        0.862628     0.900262        0.903821\n",
       "Decision Tree          0.903001        0.911263     0.935696        0.938158\n",
       "Random Forest          0.940703        0.934300     0.963255        0.956975\n",
       "Gradient Boost         0.940337        0.927474     0.955381        0.951634\n",
       "Ada Boost              0.922035        0.920648     0.937008        0.939474\n",
       "SVC                    0.884700        0.854949     0.901575        0.928378\n",
       "Naive Bayes            0.767204        0.741468     0.833333        0.908441"
      ]
     },
     "execution_count": 14,
     "metadata": {},
     "output_type": "execute_result"
    }
   ],
   "source": [
    "final.set_index('name')"
   ]
  },
  {
   "cell_type": "code",
   "execution_count": 15,
   "id": "b1515dfe-d3fb-4a42-9052-27b332c4a87f",
   "metadata": {},
   "outputs": [],
   "source": [
    "# Random Forest performed the best. Train and test values are similar and above 0.662398 baseline"
   ]
  },
  {
   "cell_type": "code",
   "execution_count": 16,
   "id": "bbacdca2-56ed-4e75-9db9-31848b7aad0a",
   "metadata": {},
   "outputs": [],
   "source": [
    "#Adding PCA to the data and comparing the scores:"
   ]
  },
  {
   "cell_type": "code",
   "execution_count": 17,
   "id": "9f8afb6e-a30c-4869-84d6-f54a654e20e4",
   "metadata": {},
   "outputs": [],
   "source": [
    "pc_final = pd.DataFrame(columns = ['cross_val_train','cross_val_test','test_recall','test_precision'])\n",
    "idx=0\n",
    "while idx < len(models.keys()):\n",
    "    for name,model in models.items():\n",
    "        results = {}\n",
    "        results['name']=name\n",
    "        name=model.fit(X_train_pc, y_train)\n",
    "        y_pred_train = model.predict(X_train_pc)\n",
    "        y_pred_test = model.predict(X_test_pc)\n",
    "        results['cross_val_train'] = np.mean(cross_val_score(model,X_train_pc,y_train,cv=4))\n",
    "        results['cross_val_test'] = np.mean(cross_val_score(model,X_test_pc,y_test,cv=4))\n",
    "        results['test_recall'] = recall_score(y_test, y_pred_test)\n",
    "        results['test_precision'] = precision_score(y_test, y_pred_test)\n",
    "        pc_final = pc_final.append(results,ignore_index=True)\n",
    "        idx+=1"
   ]
  },
  {
   "cell_type": "code",
   "execution_count": 18,
   "id": "ab1127d3-9c76-4999-959f-7cb1f4b92b04",
   "metadata": {},
   "outputs": [
    {
     "data": {
      "text/html": [
       "<div>\n",
       "<style scoped>\n",
       "    .dataframe tbody tr th:only-of-type {\n",
       "        vertical-align: middle;\n",
       "    }\n",
       "\n",
       "    .dataframe tbody tr th {\n",
       "        vertical-align: top;\n",
       "    }\n",
       "\n",
       "    .dataframe thead th {\n",
       "        text-align: right;\n",
       "    }\n",
       "</style>\n",
       "<table border=\"1\" class=\"dataframe\">\n",
       "  <thead>\n",
       "    <tr style=\"text-align: right;\">\n",
       "      <th></th>\n",
       "      <th>cross_val_train</th>\n",
       "      <th>cross_val_test</th>\n",
       "      <th>test_recall</th>\n",
       "      <th>test_precision</th>\n",
       "    </tr>\n",
       "    <tr>\n",
       "      <th>name</th>\n",
       "      <th></th>\n",
       "      <th></th>\n",
       "      <th></th>\n",
       "      <th></th>\n",
       "    </tr>\n",
       "  </thead>\n",
       "  <tbody>\n",
       "    <tr>\n",
       "      <th>LogReg</th>\n",
       "      <td>0.783675</td>\n",
       "      <td>0.763652</td>\n",
       "      <td>0.892388</td>\n",
       "      <td>0.770102</td>\n",
       "    </tr>\n",
       "    <tr>\n",
       "      <th>Decision Tree</th>\n",
       "      <td>0.831625</td>\n",
       "      <td>0.808020</td>\n",
       "      <td>0.896325</td>\n",
       "      <td>0.877892</td>\n",
       "    </tr>\n",
       "    <tr>\n",
       "      <th>Random Forest</th>\n",
       "      <td>0.884700</td>\n",
       "      <td>0.860922</td>\n",
       "      <td>0.934383</td>\n",
       "      <td>0.896725</td>\n",
       "    </tr>\n",
       "    <tr>\n",
       "      <th>Gradient Boost</th>\n",
       "      <td>0.877379</td>\n",
       "      <td>0.860922</td>\n",
       "      <td>0.908136</td>\n",
       "      <td>0.882653</td>\n",
       "    </tr>\n",
       "    <tr>\n",
       "      <th>Ada Boost</th>\n",
       "      <td>0.852855</td>\n",
       "      <td>0.848123</td>\n",
       "      <td>0.900262</td>\n",
       "      <td>0.879487</td>\n",
       "    </tr>\n",
       "    <tr>\n",
       "      <th>SVC</th>\n",
       "      <td>0.831991</td>\n",
       "      <td>0.834471</td>\n",
       "      <td>0.874016</td>\n",
       "      <td>0.871728</td>\n",
       "    </tr>\n",
       "    <tr>\n",
       "      <th>Naive Bayes</th>\n",
       "      <td>0.726940</td>\n",
       "      <td>0.713311</td>\n",
       "      <td>0.958005</td>\n",
       "      <td>0.692600</td>\n",
       "    </tr>\n",
       "  </tbody>\n",
       "</table>\n",
       "</div>"
      ],
      "text/plain": [
       "                cross_val_train  cross_val_test  test_recall  test_precision\n",
       "name                                                                        \n",
       "LogReg                 0.783675        0.763652     0.892388        0.770102\n",
       "Decision Tree          0.831625        0.808020     0.896325        0.877892\n",
       "Random Forest          0.884700        0.860922     0.934383        0.896725\n",
       "Gradient Boost         0.877379        0.860922     0.908136        0.882653\n",
       "Ada Boost              0.852855        0.848123     0.900262        0.879487\n",
       "SVC                    0.831991        0.834471     0.874016        0.871728\n",
       "Naive Bayes            0.726940        0.713311     0.958005        0.692600"
      ]
     },
     "execution_count": 18,
     "metadata": {},
     "output_type": "execute_result"
    }
   ],
   "source": [
    "pc_final.set_index('name')"
   ]
  },
  {
   "cell_type": "code",
   "execution_count": 19,
   "id": "3b084097-3bdc-4e14-a4e4-ca3c15bb6b23",
   "metadata": {},
   "outputs": [],
   "source": [
    "# Model Selection\n",
    "# The best performing models are Random Forest and Gradient Boost without PCA. PCA seemed to exaggerate overfitting on all models. \n",
    "# The Gradient Boost has the least overfitting. Therefore, I will GridSearch over a RandomForest with Gradient Boost. Just to make sure, \n",
    "#I will check out the classification report for each model to verify each class is represented fairly well.\n"
   ]
  },
  {
   "cell_type": "code",
   "execution_count": 20,
   "id": "65e69209-83e6-45b7-baca-7c3879460684",
   "metadata": {},
   "outputs": [
    {
     "name": "stdout",
     "output_type": "stream",
     "text": [
      "LogisticRegression()\n",
      "              precision    recall  f1-score   support\n",
      "\n",
      "         0.0       0.82      0.82      0.82       410\n",
      "         1.0       0.90      0.90      0.90       762\n",
      "\n",
      "    accuracy                           0.87      1172\n",
      "   macro avg       0.86      0.86      0.86      1172\n",
      "weighted avg       0.87      0.87      0.87      1172\n",
      "\n",
      "\n",
      "\n",
      "DecisionTreeClassifier()\n",
      "              precision    recall  f1-score   support\n",
      "\n",
      "         0.0       0.89      0.89      0.89       410\n",
      "         1.0       0.94      0.94      0.94       762\n",
      "\n",
      "    accuracy                           0.92      1172\n",
      "   macro avg       0.92      0.92      0.92      1172\n",
      "weighted avg       0.92      0.92      0.92      1172\n",
      "\n",
      "\n",
      "\n",
      "RandomForestClassifier()\n",
      "              precision    recall  f1-score   support\n",
      "\n",
      "         0.0       0.94      0.92      0.93       410\n",
      "         1.0       0.96      0.97      0.96       762\n",
      "\n",
      "    accuracy                           0.95      1172\n",
      "   macro avg       0.95      0.94      0.95      1172\n",
      "weighted avg       0.95      0.95      0.95      1172\n",
      "\n",
      "\n",
      "\n",
      "GradientBoostingClassifier()\n",
      "              precision    recall  f1-score   support\n",
      "\n",
      "         0.0       0.91      0.93      0.92       410\n",
      "         1.0       0.96      0.95      0.96       762\n",
      "\n",
      "    accuracy                           0.94      1172\n",
      "   macro avg       0.93      0.94      0.94      1172\n",
      "weighted avg       0.94      0.94      0.94      1172\n",
      "\n",
      "\n",
      "\n",
      "AdaBoostClassifier()\n",
      "              precision    recall  f1-score   support\n",
      "\n",
      "         0.0       0.88      0.89      0.89       410\n",
      "         1.0       0.94      0.94      0.94       762\n",
      "\n",
      "    accuracy                           0.92      1172\n",
      "   macro avg       0.91      0.91      0.91      1172\n",
      "weighted avg       0.92      0.92      0.92      1172\n",
      "\n",
      "\n",
      "\n",
      "SVC()\n",
      "              precision    recall  f1-score   support\n",
      "\n",
      "         0.0       0.83      0.87      0.85       410\n",
      "         1.0       0.93      0.90      0.91       762\n",
      "\n",
      "    accuracy                           0.89      1172\n",
      "   macro avg       0.88      0.89      0.88      1172\n",
      "weighted avg       0.89      0.89      0.89      1172\n",
      "\n",
      "\n",
      "\n",
      "GaussianNB()\n",
      "              precision    recall  f1-score   support\n",
      "\n",
      "         0.0       0.73      0.84      0.78       410\n",
      "         1.0       0.91      0.83      0.87       762\n",
      "\n",
      "    accuracy                           0.84      1172\n",
      "   macro avg       0.82      0.84      0.83      1172\n",
      "weighted avg       0.85      0.84      0.84      1172\n",
      "\n",
      "\n",
      "\n"
     ]
    }
   ],
   "source": [
    "for name,model in models.items():\n",
    "    name = model.fit(X_train,y_train)\n",
    "    y_pred_train = model.predict(X_train)\n",
    "    y_pred_test = model.predict(X_test)\n",
    "    print(name)\n",
    "    print(classification_report(y_test, y_pred_test))\n",
    "    print('\\n')"
   ]
  },
  {
   "cell_type": "code",
   "execution_count": 21,
   "id": "52ec7d23-4cbd-47ab-9e04-78fb210e87e7",
   "metadata": {},
   "outputs": [],
   "source": [
    "# The Random Forest and Gradient Boosting represent the classes most fairly among all other models. \n",
    "# Since there is an inbalance of classes for the target variable (2007 data had some people who qualified and some who didn't, whereas everyone qualified for SNAP in 2017)\n",
    "# I would expect boosting would be essential to this model."
   ]
  },
  {
   "cell_type": "code",
   "execution_count": 22,
   "id": "d20d31e3-eab5-4da5-84de-d9160ba15451",
   "metadata": {},
   "outputs": [],
   "source": [
    "#Running models\n",
    "#Random forest\n",
    "#I will start with Random Forest for interpretability."
   ]
  },
  {
   "cell_type": "code",
   "execution_count": 54,
   "id": "c128bd94-471b-4b19-91bf-3037513390a1",
   "metadata": {},
   "outputs": [
    {
     "name": "stdout",
     "output_type": "stream",
     "text": [
      "0.9454587460071922\n"
     ]
    },
    {
     "data": {
      "text/plain": [
       "{'max_depth': 15, 'max_features': 'log2', 'n_estimators': 125}"
      ]
     },
     "execution_count": 54,
     "metadata": {},
     "output_type": "execute_result"
    }
   ],
   "source": [
    "rf = RandomForestClassifier()\n",
    "params={'max_depth':[None,5,15],\n",
    "       'max_features':[None,'log2'],\n",
    "       'n_estimators':[100,125,200]}\n",
    "rf_gs = GridSearchCV(rf,param_grid=params)\n",
    "rf_gs.fit(X_train,y_train)\n",
    "print(rf_gs.best_score_)\n",
    "rf_gs.best_params_"
   ]
  },
  {
   "cell_type": "code",
   "execution_count": 55,
   "id": "90ca0407-7184-4527-bf68-b162f2273a78",
   "metadata": {},
   "outputs": [
    {
     "data": {
      "text/plain": [
       "RandomForestClassifier()"
      ]
     },
     "execution_count": 55,
     "metadata": {},
     "output_type": "execute_result"
    }
   ],
   "source": [
    "rf = RandomForestClassifier()\n",
    "rf.fit(X_train,y_train)"
   ]
  },
  {
   "cell_type": "code",
   "execution_count": 56,
   "id": "d9f912aa-c73f-4fa9-bd00-eeb553a28b03",
   "metadata": {},
   "outputs": [],
   "source": [
    "# Following code adapted from Demystify the random forest and Visualizing Dot-Whisker Regression Coefficients in Python"
   ]
  },
  {
   "cell_type": "code",
   "execution_count": 57,
   "id": "66a87e77-93c6-4163-87e0-3e42af75104a",
   "metadata": {},
   "outputs": [
    {
     "data": {
      "text/plain": [
       "array([[-0.88061189,  1.02614408,  1.78070948, -0.1335093 , -0.8826584 ,\n",
       "        -0.51403261, -0.36488324, -0.03517855,  1.00652396, -0.51614194,\n",
       "         1.0459183 , -0.24309398, -0.42833737, -1.28640995, -0.59800159,\n",
       "        -1.49056789, -0.87253073, -0.24501332, -0.59885312, -0.40909055,\n",
       "        -1.25472977, -0.59758589, -0.55893964,  0.39411313, -1.59315573,\n",
       "        -0.76825854, -0.34230342, -0.56404251, -0.91848291,  1.02614408,\n",
       "        -0.35352552, -0.02833014]])"
      ]
     },
     "execution_count": 57,
     "metadata": {},
     "output_type": "execute_result"
    }
   ],
   "source": [
    "instances = X_test[[735]]\n",
    "instances"
   ]
  },
  {
   "cell_type": "code",
   "execution_count": 58,
   "id": "f0ccd54e-dea9-4b96-ad03-b83219100036",
   "metadata": {},
   "outputs": [
    {
     "name": "stdout",
     "output_type": "stream",
     "text": [
      "Prediction [[0.6 0.4]]\n",
      "Bias (trainset prior) [[0.33175695 0.66824305]]\n",
      "Feature contributions:\n",
      "RAWNET [ 0.00047838 -0.00047838]\n",
      "FSUSIZE [ 0.00147799 -0.00147799]\n",
      "FSNONCIT [ 0.01648173 -0.01648173]\n",
      "FSGA [ 0.0038796 -0.0038796]\n",
      "FSNETINC [-0.00615081  0.00615081]\n",
      "FSDIS [0. 0.]\n",
      "TANF_IND [ 0.01664026 -0.01664026]\n",
      "REALPROP [0. 0.]\n",
      "SHELDED [ 0.0794057 -0.0794057]\n",
      "HWGT [ 0.05430563 -0.05430563]\n",
      "FSSLTDED [ 0.07486041 -0.07486041]\n",
      "FSASSET [-0.02530742  0.02530742]\n",
      "FSSSI [ 0.01362397 -0.01362397]\n",
      "FSTOTDE2 [ 0.00978374 -0.00978374]\n",
      "FSEARN [-0.00910046  0.00910046]\n",
      "TPOV [-0.01477263  0.01477263]\n",
      "FSSLTDE2 [ 0.00294802 -0.00294802]\n",
      "LIQRESOR [-0.02408743  0.02408743]\n",
      "RAWERND [-0.00951232  0.00951232]\n",
      "FSNELDER [ 0.00077669 -0.00077669]\n",
      "FSGRINC [-0.00465547  0.00465547]\n",
      "FSERNDED [-0.01592842  0.01592842]\n",
      "FSWAGES [-0.00671388  0.00671388]\n",
      "FSTOTDED [ 0.00410166 -0.00410166]\n",
      "FSSTDDE2 [ 0.03275203 -0.03275203]\n",
      "WRK_POOR [-0.00612586  0.00612586]\n",
      "FSTANF [ 0.02116805 -0.02116805]\n",
      "FSERNDE2 [-0.0070792  0.0070792]\n",
      "FSUNEARN [ 0.02371714 -0.02371714]\n",
      "CERTHHSZ [ 0.03473198 -0.03473198]\n",
      "VEHICLEA [ 0.00654397 -0.00654397]\n",
      "FSVEHAST [0. 0.]\n"
     ]
    }
   ],
   "source": [
    "ft_list = []\n",
    "prediction, bias, contributions = ti.predict(rf, instances)\n",
    "print( \"Prediction\", prediction)\n",
    "print( \"Bias (trainset prior)\", bias)\n",
    "print (\"Feature contributions:\")\n",
    "for c, feature in zip(contributions[0], \n",
    "                             X.columns):\n",
    "    ft_list.append((feature, np.round(c, 2)))\n",
    "    print (feature, c)\n",
    "    \n",
    "labels, values = zip(*ft_list)"
   ]
  },
  {
   "cell_type": "code",
   "execution_count": 59,
   "id": "222ab5b0-2b52-40e5-9c76-5e1b110804d0",
   "metadata": {},
   "outputs": [],
   "source": [
    "df1 = pd.DataFrame(ft_list,columns=['feature','array'])\n",
    "df2 = pd.DataFrame(df1[\"array\"].to_list(), columns=['pred_0', 'pred_1'])\n",
    "coef_df = pd.concat([df1,df2],axis=1).drop(columns=['array'])\n",
    "coef_df.to_csv('./data/2018_indicators/coef.csv',index=None)"
   ]
  },
  {
   "cell_type": "code",
   "execution_count": 60,
   "id": "22e898fb-429c-48fd-9f63-cdb3d2672a11",
   "metadata": {},
   "outputs": [
    {
     "data": {
      "image/png": "[encoded data removed]",
      "text/plain": [
       "<Figure size 1440x720 with 1 Axes>"
      ]
     },
     "metadata": {
      "needs_background": "light"
     },
     "output_type": "display_data"
    }
   ],
   "source": [
    "fig, ax = plt.subplots(figsize=(20,10))\n",
    "plt.title('Random Forest range of Coefficients Effect on SNAP \\n (the larger the range, the more impact on predicting SNAP)')\n",
    "plt.grid(zorder=0,alpha = 0.2)\n",
    "xs = np.arange(len(labels))\n",
    "ax.bar(xs,coef_df['pred_0'], label = 'pred 0')\n",
    "ax.bar(xs,coef_df['pred_1'],label = 'pred 1')\n",
    "ax.axhline(y=0, linestyle='--', color='black', linewidth=4)\n",
    "ax.set_xticks(coef_df.index)\n",
    "ax.set_xticklabels(coef_df['feature'],rotation = 45)\n",
    "plt.legend()\n",
    "plt.savefig('./images/rf_corr.png');"
   ]
  },
  {
   "cell_type": "code",
   "execution_count": 61,
   "id": "7b1acd42-7524-4743-9e7d-418fcc986a15",
   "metadata": {},
   "outputs": [],
   "source": [
    "# Extra Tree Classifier\n",
    "# I will compare a gridsearch Extra Tree classifier to see if it should be added to the ensemble."
   ]
  },
  {
   "cell_type": "code",
   "execution_count": 62,
   "id": "5927f388-f33a-4f1d-b9b7-e08fa2026664",
   "metadata": {},
   "outputs": [
    {
     "name": "stdout",
     "output_type": "stream",
     "text": [
      "0.8173440210003282\n"
     ]
    },
    {
     "data": {
      "text/plain": [
       "{'max_depth': None, 'max_features': None, 'max_leaf_nodes': 10}"
      ]
     },
     "execution_count": 62,
     "metadata": {},
     "output_type": "execute_result"
    }
   ],
   "source": [
    "et = ExtraTreeClassifier()\n",
    "params={'max_depth':[None,3,4],\n",
    "       'max_features':[None,'auto'],\n",
    "       'max_leaf_nodes':[5,10]}\n",
    "et_gs = GridSearchCV(et,param_grid=params)\n",
    "et_gs.fit(X_train,y_train)\n",
    "print(et_gs.best_score_)\n",
    "et_gs.best_params_"
   ]
  },
  {
   "cell_type": "code",
   "execution_count": 63,
   "id": "5280df94-8c23-4a1f-9170-c5ec22c487c6",
   "metadata": {},
   "outputs": [],
   "source": [
    "# It seems the random with replacement that isn't offered in the Extra Tree Classifier is important to predicting SNAP eligibility. \n",
    "# Further magnifying the more than slight class imbalance of the target column. Therefore, Extra Tree Classifier will not be used in the Ensemble."
   ]
  },
  {
   "cell_type": "code",
   "execution_count": 64,
   "id": "f90452b3-04e2-4c90-8c76-78dfd1b482d3",
   "metadata": {},
   "outputs": [],
   "source": [
    "# Bagging Classifier\n",
    "# Since there is slight overfitting due to less variability in my target class, I will test a bagging classifier to see if I should place it in my Vote Ensemble."
   ]
  },
  {
   "cell_type": "code",
   "execution_count": 65,
   "id": "f82acac6-eb75-4a7f-800b-84588a546cd8",
   "metadata": {},
   "outputs": [
    {
     "name": "stdout",
     "output_type": "stream",
     "text": [
      "cross_val_train = 0.7269399707174231\n",
      "cross_val_test = 0.7133105802047782\n",
      "test_recall = 0.9461942257217848\n",
      "test_precision = 0.9499341238471674\n"
     ]
    }
   ],
   "source": [
    "bag = BaggingClassifier()\n",
    "bag.fit(X_train,y_train)\n",
    "y_pred_train = bag.predict(X_train)\n",
    "y_pred_test = bag.predict(X_test)\n",
    "print(f'cross_val_train = {np.mean(cross_val_score(model,X_train_pc,y_train,cv=4))}')\n",
    "print(f'cross_val_test = {np.mean(cross_val_score(model,X_test_pc,y_test,cv=4))}')\n",
    "print(f'test_recall = {recall_score(y_test, y_pred_test)}')\n",
    "print(f'test_precision = {precision_score(y_test, y_pred_test)}')"
   ]
  },
  {
   "cell_type": "code",
   "execution_count": 66,
   "id": "a2295a81-81e6-4829-93ad-0a7b84015cc1",
   "metadata": {},
   "outputs": [],
   "source": [
    "#The cross val score is low for both train and test, but it doesn't appear to be overfitting. \n",
    "#The test recall and precision is actually very high, meaning it is predicting positives very acurately. I will therefore add it to my vote ensemble. \n",
    "# Because predicting positive (ie. those that are projected to be on SNAP) is more beneficial in targeting groups that are at risk."
   ]
  },
  {
   "cell_type": "code",
   "execution_count": 67,
   "id": "c148e056-ed24-4e9b-81e5-c6f765898b44",
   "metadata": {},
   "outputs": [],
   "source": [
    "#Vote Ensemble Random Forest\n",
    "# The course ran black box models by gridsearching through a Gradient Boosting and Bagging Classifier Vote Ensemble. \n",
    "# Which was run in another notebook. "
   ]
  },
  {
   "cell_type": "code",
   "execution_count": 68,
   "id": "0d082c39-cc9e-47ed-b0fc-fae1ee8f54f5",
   "metadata": {},
   "outputs": [],
   "source": [
    "# Final Model"
   ]
  },
  {
   "cell_type": "code",
   "execution_count": 69,
   "id": "32c91652-be04-4e3e-8af2-a9c24ae5379c",
   "metadata": {},
   "outputs": [],
   "source": [
    "vote = VotingClassifier([\n",
    "    ('rf',RandomForestClassifier(bootstrap=False,n_estimators=1000)),\n",
    "    ('gb',GradientBoostingClassifier(max_depth=10,subsample=0.8)),\n",
    "    ('bag',BaggingClassifier(n_estimators = 10))\n",
    "])"
   ]
  },
  {
   "cell_type": "code",
   "execution_count": 70,
   "id": "d5d7df04-ec47-43d1-8cda-75f0643844ab",
   "metadata": {},
   "outputs": [
    {
     "data": {
      "text/plain": [
       "VotingClassifier(estimators=[('rf',\n",
       "                              RandomForestClassifier(bootstrap=False,\n",
       "                                                     n_estimators=1000)),\n",
       "                             ('gb',\n",
       "                              GradientBoostingClassifier(max_depth=10,\n",
       "                                                         subsample=0.8)),\n",
       "                             ('bag', BaggingClassifier())])"
      ]
     },
     "execution_count": 70,
     "metadata": {},
     "output_type": "execute_result"
    }
   ],
   "source": [
    "vote.fit(X_train,y_train)"
   ]
  },
  {
   "cell_type": "code",
   "execution_count": 71,
   "id": "7b812581-a967-4cea-baef-a3e021b499b8",
   "metadata": {},
   "outputs": [],
   "source": [
    "filename = 'final_model.sav'\n",
    "pickle.dump(vote, open(filename, 'wb'))"
   ]
  },
  {
   "cell_type": "code",
   "execution_count": 41,
   "id": "83f04569-c5ce-401e-9a3f-0a2a1993bd3b",
   "metadata": {},
   "outputs": [],
   "source": [
    "# Reiteration of model "
   ]
  },
  {
   "cell_type": "code",
   "execution_count": 42,
   "id": "f959f944-26de-4ca4-8c07-9a6822f9f020",
   "metadata": {},
   "outputs": [
    {
     "name": "stdout",
     "output_type": "stream",
     "text": [
      "0.9432636224226718\n"
     ]
    },
    {
     "data": {
      "text/plain": [
       "{'max_depth': None, 'max_features': 'auto', 'n_estimators': 100}"
      ]
     },
     "execution_count": 42,
     "metadata": {},
     "output_type": "execute_result"
    }
   ],
   "source": [
    "rf = RandomForestClassifier()\n",
    "params={'max_depth':[None,3,4],\n",
    "       'max_features':[None,'auto'],\n",
    "       'n_estimators':[75,100,125]}\n",
    "rf_gs = GridSearchCV(rf,param_grid=params)\n",
    "rf_gs.fit(X_train,y_train)\n",
    "print(rf_gs.best_score_)\n",
    "rf_gs.best_params_"
   ]
  },
  {
   "cell_type": "code",
   "execution_count": 43,
   "id": "48019cdb-63f4-481c-be6b-5a0e3654fa6e",
   "metadata": {},
   "outputs": [
    {
     "name": "stdout",
     "output_type": "stream",
     "text": [
      "0.9447274845812323\n"
     ]
    },
    {
     "data": {
      "text/plain": [
       "{'max_depth': None, 'max_features': 'auto', 'n_estimators': 125}"
      ]
     },
     "execution_count": 43,
     "metadata": {},
     "output_type": "execute_result"
    }
   ],
   "source": [
    "rf = RandomForestClassifier()\n",
    "params={'max_depth':[None,4,5],\n",
    "       'max_features':[None,'auto'],\n",
    "       'n_estimators':[75,100,125]}\n",
    "rf_gs = GridSearchCV(rf,param_grid=params)\n",
    "rf_gs.fit(X_train,y_train)\n",
    "print(rf_gs.best_score_)\n",
    "rf_gs.best_params_"
   ]
  },
  {
   "cell_type": "code",
   "execution_count": 44,
   "id": "eb554b5e-dd97-46ac-9c2e-c8e22f93ad86",
   "metadata": {},
   "outputs": [
    {
     "name": "stdout",
     "output_type": "stream",
     "text": [
      "0.9421660606304118\n"
     ]
    },
    {
     "data": {
      "text/plain": [
       "{'max_depth': None, 'max_features': 'auto', 'n_estimators': 75}"
      ]
     },
     "execution_count": 44,
     "metadata": {},
     "output_type": "execute_result"
    }
   ],
   "source": [
    "rf = RandomForestClassifier()\n",
    "params={'max_depth':[None,4,5],\n",
    "       'max_features':[None,'auto'],\n",
    "       'n_estimators':[20,50,75]}\n",
    "rf_gs = GridSearchCV(rf,param_grid=params)\n",
    "rf_gs.fit(X_train,y_train)\n",
    "print(rf_gs.best_score_)\n",
    "rf_gs.best_params_"
   ]
  },
  {
   "cell_type": "code",
   "execution_count": 45,
   "id": "2c9b5a13-c09d-484b-b264-21faba154ea9",
   "metadata": {},
   "outputs": [
    {
     "name": "stdout",
     "output_type": "stream",
     "text": [
      "0.9432629527693515\n"
     ]
    },
    {
     "data": {
      "text/plain": [
       "{'max_depth': None, 'max_features': 'auto', 'n_estimators': 100}"
      ]
     },
     "execution_count": 45,
     "metadata": {},
     "output_type": "execute_result"
    }
   ],
   "source": [
    "rf = RandomForestClassifier()\n",
    "params={'max_depth':[None,4,5],\n",
    "       'max_features':[None,'auto'],\n",
    "       'n_estimators':[100,125,200]}\n",
    "rf_gs = GridSearchCV(rf,param_grid=params)\n",
    "rf_gs.fit(X_train,y_train)\n",
    "print(rf_gs.best_score_)\n",
    "rf_gs.best_params_"
   ]
  },
  {
   "cell_type": "code",
   "execution_count": 46,
   "id": "0239d42a-94c7-4ee9-8d09-683475fa0266",
   "metadata": {},
   "outputs": [
    {
     "name": "stdout",
     "output_type": "stream",
     "text": [
      "0.9454607549671536\n"
     ]
    },
    {
     "data": {
      "text/plain": [
       "{'max_depth': 15, 'max_features': 'auto', 'n_estimators': 125}"
      ]
     },
     "execution_count": 46,
     "metadata": {},
     "output_type": "execute_result"
    }
   ],
   "source": [
    "rf = RandomForestClassifier()\n",
    "params={'max_depth':[None,5,15],\n",
    "       'max_features':[None,'auto'],\n",
    "       'n_estimators':[75,100,125]}\n",
    "rf_gs = GridSearchCV(rf,param_grid=params)\n",
    "rf_gs.fit(X_train,y_train)\n",
    "print(rf_gs.best_score_)\n",
    "rf_gs.best_params_"
   ]
  },
  {
   "cell_type": "code",
   "execution_count": 47,
   "id": "9b22a792-827e-463d-b580-c6b726aeac0b",
   "metadata": {},
   "outputs": [
    {
     "name": "stdout",
     "output_type": "stream",
     "text": [
      "0.9469212688591118\n"
     ]
    },
    {
     "data": {
      "text/plain": [
       "{'max_depth': 15, 'max_features': 'auto', 'n_estimators': 100}"
      ]
     },
     "execution_count": 47,
     "metadata": {},
     "output_type": "execute_result"
    }
   ],
   "source": [
    "rf = RandomForestClassifier()\n",
    "params={'max_depth':[None,5,15],\n",
    "       'max_features':[None,'auto'],\n",
    "       'n_estimators':[100,125,200]}\n",
    "rf_gs = GridSearchCV(rf,param_grid=params)\n",
    "rf_gs.fit(X_train,y_train)\n",
    "print(rf_gs.best_score_)\n",
    "rf_gs.best_params_"
   ]
  },
  {
   "cell_type": "code",
   "execution_count": 48,
   "id": "8f52080d-fa6c-4bb0-bb03-792dc38d369a",
   "metadata": {},
   "outputs": [
    {
     "name": "stdout",
     "output_type": "stream",
     "text": [
      "0.945461424620474\n"
     ]
    },
    {
     "data": {
      "text/plain": [
       "{'max_depth': 25, 'max_features': 'auto', 'n_estimators': 125}"
      ]
     },
     "execution_count": 48,
     "metadata": {},
     "output_type": "execute_result"
    }
   ],
   "source": [
    "rf = RandomForestClassifier()\n",
    "params={'max_depth':[None,15,25],\n",
    "       'max_features':[None,'auto'],\n",
    "       'n_estimators':[100,125,200]}\n",
    "rf_gs = GridSearchCV(rf,param_grid=params)\n",
    "rf_gs.fit(X_train,y_train)\n",
    "print(rf_gs.best_score_)\n",
    "rf_gs.best_params_"
   ]
  },
  {
   "cell_type": "code",
   "execution_count": 49,
   "id": "8b7ee009-19fc-4ce4-9fef-d658600c3c5e",
   "metadata": {},
   "outputs": [
    {
     "name": "stdout",
     "output_type": "stream",
     "text": [
      "0.9458277249867744\n"
     ]
    },
    {
     "data": {
      "text/plain": [
       "{'max_depth': 15, 'max_features': 'sqrt', 'n_estimators': 100}"
      ]
     },
     "execution_count": 49,
     "metadata": {},
     "output_type": "execute_result"
    }
   ],
   "source": [
    "rf = RandomForestClassifier()\n",
    "params={'max_depth':[None,5,15],\n",
    "       'max_features':[None,'sqrt'],\n",
    "       'n_estimators':[100,125,200]}\n",
    "rf_gs = GridSearchCV(rf,param_grid=params)\n",
    "rf_gs.fit(X_train,y_train)\n",
    "print(rf_gs.best_score_)\n",
    "rf_gs.best_params_"
   ]
  },
  {
   "cell_type": "code",
   "execution_count": 50,
   "id": "0a956082-964e-4ec3-828f-6d6f858e93fa",
   "metadata": {},
   "outputs": [
    {
     "name": "stdout",
     "output_type": "stream",
     "text": [
      "0.9461920163931132\n"
     ]
    },
    {
     "data": {
      "text/plain": [
       "{'max_depth': None, 'max_features': 'log2', 'n_estimators': 125}"
      ]
     },
     "execution_count": 50,
     "metadata": {},
     "output_type": "execute_result"
    }
   ],
   "source": [
    "rf = RandomForestClassifier()\n",
    "params={'max_depth':[None,5,15],\n",
    "       'max_features':[None,'log2'],\n",
    "       'n_estimators':[100,125,200]}\n",
    "rf_gs = GridSearchCV(rf,param_grid=params)\n",
    "rf_gs.fit(X_train,y_train)\n",
    "print(rf_gs.best_score_)\n",
    "rf_gs.best_params_"
   ]
  },
  {
   "cell_type": "code",
   "execution_count": 51,
   "id": "7320cd88-e76f-4ab1-9c6a-afa4935f7892",
   "metadata": {},
   "outputs": [
    {
     "name": "stdout",
     "output_type": "stream",
     "text": [
      "0.9458277249867744\n"
     ]
    },
    {
     "data": {
      "text/plain": [
       "{'max_depth': 15, 'max_features': 'log2', 'n_estimators': 100}"
      ]
     },
     "execution_count": 51,
     "metadata": {},
     "output_type": "execute_result"
    }
   ],
   "source": [
    "rf = RandomForestClassifier()\n",
    "params={'max_depth':[None,5,15],\n",
    "       'max_features':['sqrt','log2'],\n",
    "       'n_estimators':[100,125,200]}\n",
    "rf_gs = GridSearchCV(rf,param_grid=params)\n",
    "rf_gs.fit(X_train,y_train)\n",
    "print(rf_gs.best_score_)\n",
    "rf_gs.best_params_"
   ]
  },
  {
   "cell_type": "code",
   "execution_count": 52,
   "id": "88b050ef-4231-4e99-aa59-8f2153e3a0fb",
   "metadata": {},
   "outputs": [
    {
     "name": "stdout",
     "output_type": "stream",
     "text": [
      "0.9461900074331518\n"
     ]
    },
    {
     "data": {
      "text/plain": [
       "{'max_depth': 15, 'max_features': 'log2', 'n_estimators': 100}"
      ]
     },
     "execution_count": 52,
     "metadata": {},
     "output_type": "execute_result"
    }
   ],
   "source": [
    "rf = RandomForestClassifier()\n",
    "params={'max_depth':[5,15,25],\n",
    "       'max_features':[None,'log2'],\n",
    "       'n_estimators':[100,125,200]}\n",
    "rf_gs = GridSearchCV(rf,param_grid=params)\n",
    "rf_gs.fit(X_train,y_train)\n",
    "print(rf_gs.best_score_)\n",
    "rf_gs.best_params_"
   ]
  },
  {
   "cell_type": "code",
   "execution_count": 53,
   "id": "deff2fa5-1b2b-483c-b53c-65d137c97660",
   "metadata": {},
   "outputs": [
    {
     "name": "stdout",
     "output_type": "stream",
     "text": [
      "0.9432636224226719\n"
     ]
    },
    {
     "data": {
      "text/plain": [
       "{'max_depth': 15, 'max_features': 'log2', 'n_estimators': 75}"
      ]
     },
     "execution_count": 53,
     "metadata": {},
     "output_type": "execute_result"
    }
   ],
   "source": [
    "rf = RandomForestClassifier()\n",
    "params={'max_depth':[5,15,25],\n",
    "       'max_features':[None,'log2'],\n",
    "       'n_estimators':[75,100,125]}\n",
    "rf_gs = GridSearchCV(rf,param_grid=params)\n",
    "rf_gs.fit(X_train,y_train)\n",
    "print(rf_gs.best_score_)\n",
    "rf_gs.best_params_"
   ]
  },
  {
   "cell_type": "code",
   "execution_count": null,
   "id": "95356ed4-631c-4a4a-9722-158c2a2e8630",
   "metadata": {},
   "outputs": [],
   "source": []
  }
 ],
 "metadata": {
  "kernelspec": {
   "display_name": "Python 3 (ipykernel)",
   "language": "python",
   "name": "python3"
  },
  "language_info": {
   "codemirror_mode": {
    "name": "ipython",
    "version": 3
   },
   "file_extension": ".py",
   "mimetype": "text/x-python",
   "name": "python",
   "nbconvert_exporter": "python",
   "pygments_lexer": "ipython3",
   "version": "3.9.7"
  }
 },
 "nbformat": 4,
 "nbformat_minor": 5
}
